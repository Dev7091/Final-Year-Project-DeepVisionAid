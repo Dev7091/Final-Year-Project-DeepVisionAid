{
 "cells": [
  {
   "cell_type": "code",
   "execution_count": 26,
   "metadata": {},
   "outputs": [],
   "source": [
    "import torch\n",
    "import cv2 as cv\n",
    "import numpy as np\n",
    "import os\n",
    "import json\n",
    "from ultralytics import YOLO\n",
    "from torchmetrics.detection.mean_ap import MeanAveragePrecision"
   ]
  },
  {
   "cell_type": "code",
   "execution_count": 27,
   "metadata": {},
   "outputs": [],
   "source": [
    "COCO_ANNOTATIONS_PATH = r\"D:\\Object Detection\\Object-Detector-and-Distance-Estimator\\COCO dataset\\annotations\\instances_val2017.json\"\n",
    "COCO_IMAGES_PATH = r\"D:\\Object Detection\\Object-Detector-and-Distance-Estimator\\COCO dataset\\val2017\"\n",
    "KNOWN_DISTANCES_PATH = r\"D:\\Object Detection\\Object-Detector-and-Distance-Estimator\\known_distances\"\n"
   ]
  },
  {
   "cell_type": "code",
   "execution_count": 28,
   "metadata": {},
   "outputs": [],
   "source": [
    "# Load YOLO model\n",
    "model = YOLO('yolov8m.pt')  "
   ]
  },
  {
   "cell_type": "code",
   "execution_count": 29,
   "metadata": {},
   "outputs": [],
   "source": [
    "# Load COCO ground truth annotations\n",
    "def load_coco_annotations():\n",
    "    with open(COCO_ANNOTATIONS_PATH, 'r') as f:\n",
    "        data = json.load(f)\n",
    "    annotations = {}\n",
    "    for ann in data['annotations']:\n",
    "        image_id = ann['image_id']\n",
    "        x, y, width, height = ann['bbox']\n",
    "        bbox = [x, y, width, height]  # Keep in COCO format\n",
    "        category_id = ann['category_id']\n",
    "        if image_id not in annotations:\n",
    "            annotations[image_id] = []\n",
    "        annotations[image_id].append((bbox, category_id))\n",
    "    return annotations"
   ]
  },
  {
   "cell_type": "code",
   "execution_count": 30,
   "metadata": {},
   "outputs": [],
   "source": [
    "# Initialize mAP metric\n",
    "metric = MeanAveragePrecision(iou_thresholds=[0.5, 0.75, 0.95])"
   ]
  },
  {
   "cell_type": "code",
   "execution_count": 31,
   "metadata": {},
   "outputs": [],
   "source": [
    "# Function to evaluate object detection accuracy\n",
    "def evaluate_object_detection():\n",
    "    ground_truth_annotations = load_coco_annotations()\n",
    "    predictions = []\n",
    "    gt_data = []\n",
    "\n",
    "    # Batch processing\n",
    "    batch_size = 16  # Adjust based on available memory\n",
    "    image_paths = [os.path.join(COCO_IMAGES_PATH, f) for f in os.listdir(COCO_IMAGES_PATH) if f.endswith(\".jpg\")]\n",
    "\n",
    "    for i in range(0, len(image_paths), batch_size):\n",
    "        batch = image_paths[i:i + batch_size]  # Get a batch of images\n",
    "        results = model.predict(batch, conf=0.25, max_det=100, stream=True, verbose=False)\n",
    "\n",
    "        for img_path, result in zip(batch, results):  # Process results one by one\n",
    "            image_id = int(os.path.basename(img_path).split('.')[0])\n",
    "\n",
    "            detections = result.boxes.data.cpu().numpy()\n",
    "            pred_boxes = []\n",
    "            pred_scores = []\n",
    "            pred_labels = []\n",
    "\n",
    "            for detection in detections:\n",
    "                x1, y1, x2, y2, confidence, class_id = detection\n",
    "                pred_boxes.append([x1, y1, x2 - x1, y2 - y1])  # Convert to COCO format\n",
    "                pred_scores.append(confidence)\n",
    "                pred_labels.append(int(class_id))\n",
    "\n",
    "            if image_id in ground_truth_annotations:\n",
    "                gt_boxes = torch.tensor([box for box, _ in ground_truth_annotations[image_id]])\n",
    "                gt_labels = torch.tensor([label for _, label in ground_truth_annotations[image_id]])\n",
    "\n",
    "                predictions.append({\n",
    "                    \"boxes\": torch.tensor(pred_boxes),\n",
    "                    \"scores\": torch.tensor(pred_scores),\n",
    "                    \"labels\": torch.tensor(pred_labels)\n",
    "                })\n",
    "\n",
    "                gt_data.append({\n",
    "                    \"boxes\": gt_boxes,\n",
    "                    \"labels\": gt_labels\n",
    "                })\n",
    "\n",
    "    metric.update(predictions, gt_data)\n",
    "    mAP_score = metric.compute()\n",
    "    print(\"Mean Average Precision (mAP):\", mAP_score)\n"
   ]
  },
  {
   "cell_type": "code",
   "execution_count": 32,
   "metadata": {},
   "outputs": [],
   "source": [
    "# Function to evaluate distance estimation accuracy\n",
    "def evaluate_distance_estimation():\n",
    "    actual_distances = []\n",
    "    predicted_distances = []\n",
    "    \n",
    "    for filename in os.listdir(KNOWN_DISTANCES_PATH):\n",
    "        if filename.endswith(\".jpg\") or filename.endswith(\".png\"):\n",
    "            img_path = os.path.join(KNOWN_DISTANCES_PATH, filename)\n",
    "            img = cv.imread(img_path)\n",
    "            \n",
    "            # Extract actual distance from filename\n",
    "            import re\n",
    "            match = re.search(r\"(\\d+(\\.\\d+)?)m\", filename)\n",
    "            if match:\n",
    "                actual_distance = float(match.group(1))\n",
    "            else:\n",
    "                print(f\"Skipping {filename}, could not extract distance.\")\n",
    "                continue\n",
    "            \n",
    "            # Define focal length and real-world object width\n",
    "            focal_length = 600  # Adjust based on calibration\n",
    "            real_width = 16  # Example: person shoulder width\n",
    "            \n",
    "            detections = model.predict(img, verbose=False)[0].boxes.data.cpu().numpy()\n",
    "            \n",
    "            for detection in detections:\n",
    "                width_pixel = detection[2] - detection[0]\n",
    "                if width_pixel == 0:\n",
    "                    continue  # Avoid division by zero\n",
    "                estimated_distance = (real_width * focal_length) / width_pixel\n",
    "                \n",
    "                actual_distances.append(actual_distance)\n",
    "                predicted_distances.append(estimated_distance)\n",
    "    \n",
    "    if actual_distances and predicted_distances:\n",
    "        mae = np.mean(np.abs(np.array(actual_distances) - np.array(predicted_distances)))\n",
    "        mse = np.mean((np.array(actual_distances) - np.array(predicted_distances))**2)\n",
    "        print(f\"Mean Absolute Error (MAE): {mae:.3f} meters\")\n",
    "        print(f\"Mean Squared Error (MSE): {mse:.3f}\")\n",
    "    else:\n",
    "        print(\"No valid distance estimations found.\")"
   ]
  },
  {
   "cell_type": "code",
   "execution_count": 33,
   "metadata": {},
   "outputs": [
    {
     "name": "stdout",
     "output_type": "stream",
     "text": [
      "Mean Average Precision (mAP): {'map': tensor(7.5982e-06), 'map_50': tensor(8.5805e-06), 'map_75': tensor(8.5805e-06), 'map_small': tensor(0.), 'map_medium': tensor(0.), 'map_large': tensor(1.2114e-05), 'mar_1': tensor(0.0002), 'mar_10': tensor(0.0002), 'mar_100': tensor(0.0002), 'mar_small': tensor(0.), 'mar_medium': tensor(0.), 'mar_large': tensor(0.0003), 'map_per_class': tensor(-1.), 'mar_100_per_class': tensor(-1.), 'classes': tensor([ 0,  1,  2,  3,  4,  5,  6,  7,  8,  9, 10, 11, 12, 13, 14, 15, 16, 17, 18, 19, 20, 21, 22, 23, 24, 25, 26, 27, 28, 29, 30, 31, 32, 33, 34, 35, 36, 37, 38, 39, 40, 41, 42, 43, 44, 45, 46, 47, 48, 49, 50, 51, 52, 53, 54, 55, 56, 57, 58, 59, 60, 61, 62, 63, 64, 65, 66, 67, 68, 69, 70, 71, 72, 73, 74, 75, 76, 77,\n",
      "        78, 79, 80, 81, 82, 84, 85, 86, 87, 88, 89, 90], dtype=torch.int32)}\n"
     ]
    }
   ],
   "source": [
    "# Run evaluations\n",
    "evaluate_object_detection()\n",
    "#evaluate_distance_estimation()"
   ]
  }
 ],
 "metadata": {
  "kernelspec": {
   "display_name": "myenv",
   "language": "python",
   "name": "python3"
  },
  "language_info": {
   "codemirror_mode": {
    "name": "ipython",
    "version": 3
   },
   "file_extension": ".py",
   "mimetype": "text/x-python",
   "name": "python",
   "nbconvert_exporter": "python",
   "pygments_lexer": "ipython3",
   "version": "3.12.2"
  }
 },
 "nbformat": 4,
 "nbformat_minor": 2
}
